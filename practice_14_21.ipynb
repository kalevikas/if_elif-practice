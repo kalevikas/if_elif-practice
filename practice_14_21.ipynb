{
 "cells": [
  {
   "cell_type": "markdown",
   "id": "9fec0973",
   "metadata": {},
   "source": [
    "# if and elif"
   ]
  },
  {
   "cell_type": "code",
   "execution_count": 3,
   "id": "aa76eb06",
   "metadata": {},
   "outputs": [
    {
     "name": "stdout",
     "output_type": "stream",
     "text": [
      "Enter your marks: Marks must be between 0 and 10080\n",
      "Grade A\n"
     ]
    }
   ],
   "source": [
    "marks = int(input(\"Enter your marks: Marks must be between 0 and 100\"))\n",
    "\n",
    "if marks <= 100 and marks >= 0:\n",
    "    \n",
    "    if marks >=80 and marks <=100:\n",
    "        print(\"Grade A\")\n",
    "    elif marks >=60 and marks <80:\n",
    "        print(\"Grade B\")\n",
    "    elif marks >=40 and marks <60:\n",
    "        print(\"Grade C\")\n",
    "    else:\n",
    "        print(\"Fail\")\n",
    "else:\n",
    "    print(\"Marks are not valid : \", marks)\n"
   ]
  },
  {
   "cell_type": "code",
   "execution_count": 1,
   "id": "59932512",
   "metadata": {},
   "outputs": [
    {
     "name": "stdout",
     "output_type": "stream",
     "text": [
      "Enter a number : Number must be div by 3 or 5 : 35\n",
      "It is div by 5\n"
     ]
    }
   ],
   "source": [
    "num=int(input(\"Enter a number : Number must be div by 3 or 5 : \"))\n",
    "\n",
    "if num%3==0 and num%5==0:\n",
    "    print(\"Num is div by 3 and 5\",num)\n",
    "elif num%3==0:\n",
    "        print(\"It is div by 3\")\n",
    "elif num%5==0:\n",
    "        print(\"It is div by 5\")\n",
    "else:\n",
    "    \n",
    "    print(\"Number not div by 3 0r 5\",num)"
   ]
  },
  {
   "cell_type": "code",
   "execution_count": 2,
   "id": "7344d29a",
   "metadata": {},
   "outputs": [
    {
     "data": {
      "text/plain": [
       "3"
      ]
     },
     "execution_count": 2,
     "metadata": {},
     "output_type": "execute_result"
    }
   ],
   "source": [
    "6//2"
   ]
  },
  {
   "cell_type": "code",
   "execution_count": 3,
   "id": "c024caef",
   "metadata": {},
   "outputs": [
    {
     "data": {
      "text/plain": [
       "2"
      ]
     },
     "execution_count": 3,
     "metadata": {},
     "output_type": "execute_result"
    }
   ],
   "source": [
    "8//4"
   ]
  },
  {
   "cell_type": "code",
   "execution_count": 4,
   "id": "17cf48af",
   "metadata": {},
   "outputs": [
    {
     "data": {
      "text/plain": [
       "0"
      ]
     },
     "execution_count": 4,
     "metadata": {},
     "output_type": "execute_result"
    }
   ],
   "source": [
    "8%4"
   ]
  },
  {
   "cell_type": "markdown",
   "id": "d113614b",
   "metadata": {},
   "source": [
    "# write a program to find out input value is what?"
   ]
  },
  {
   "cell_type": "code",
   "execution_count": null,
   "id": "dec8dd74",
   "metadata": {},
   "outputs": [],
   "source": [
    "1] Is it small case [a - z]\n",
    "2] Is it capital case [ A - Z]\n",
    "3] Is it digit/ number [0 - 9]\n",
    "4] Is is special character - for ex: $%^*, etc\n",
    "\n",
    "Take single character input from user. If user given string take first value of string as input value.\n",
    "\n",
    "For:\n",
    "\n",
    "user_input = 'a' # a is a single character => Small Case\n",
    "\n",
    "user_input = 'Viraj' # Take only V from user_input. and give the output.\n",
    "\n",
    "user_input = 123 # Take only 1 from 123 => digit/ number\n",
    "\n",
    "user_input = @ # Return special character"
   ]
  },
  {
   "cell_type": "code",
   "execution_count": 11,
   "id": "49682079",
   "metadata": {},
   "outputs": [
    {
     "name": "stdout",
     "output_type": "stream",
     "text": [
      "Enter the value : Vikas\n",
      "capital case\n"
     ]
    }
   ],
   "source": [
    "num=input(\"Enter the value : \")[0]\n",
    "\n",
    "\n",
    "if ord(num) >= 97 and ord(num) <= 122:\n",
    "    print(\"small case\")\n",
    "elif ord(num) >= 65 and ord(num) < 91:\n",
    "    print(\"capital case\")\n",
    "elif ord(num) >= 48 and ord(num) <= 57:\n",
    "    print(\"Digit/Number\")\n",
    "else:\n",
    "    print(\"Special Character\")"
   ]
  },
  {
   "cell_type": "code",
   "execution_count": 15,
   "id": "67a8b794",
   "metadata": {},
   "outputs": [
    {
     "name": "stdout",
     "output_type": "stream",
     "text": [
      "Enter the value : $\n",
      "Special Character\n"
     ]
    }
   ],
   "source": [
    "num=input(\"Enter the value : \")[0]\n",
    "\n",
    "\n",
    "if ord(num) >= 97 and ord(num) <= 122:\n",
    "    print(\"small case\")\n",
    "elif ord(num) >= 65 and ord(num) < 91:\n",
    "    print(\"capital case\")\n",
    "elif ord(num) >= 48 and ord(num) <= 57:\n",
    "    print(\"Digit/Number\")\n",
    "else:\n",
    "    print(\"Special Character\")"
   ]
  },
  {
   "cell_type": "code",
   "execution_count": 16,
   "id": "fdd939f9",
   "metadata": {},
   "outputs": [
    {
     "name": "stdout",
     "output_type": "stream",
     "text": [
      "b is grater than a\n"
     ]
    }
   ],
   "source": [
    "a=20\n",
    "b=40\n",
    "if a>b:\n",
    "    print(\"a is greater than b\")\n",
    "elif b>a:\n",
    "    print(\"b is grater than a\")\n",
    "else:\n",
    "    print(\"both are equal\")"
   ]
  },
  {
   "cell_type": "code",
   "execution_count": 17,
   "id": "d571ebe4",
   "metadata": {},
   "outputs": [
    {
     "name": "stdout",
     "output_type": "stream",
     "text": [
      "both are equal\n"
     ]
    }
   ],
   "source": [
    "a=40\n",
    "b=40\n",
    "if a>b:\n",
    "    print(\"a is greater than b\")\n",
    "elif b>a:\n",
    "    print(\"b is grater than a\")\n",
    "else:\n",
    "    print(\"both are equal\")"
   ]
  },
  {
   "cell_type": "code",
   "execution_count": 19,
   "id": "11f71ad0",
   "metadata": {},
   "outputs": [
    {
     "name": "stdout",
     "output_type": "stream",
     "text": [
      "b and c is greater than a\n"
     ]
    }
   ],
   "source": [
    "a=100\n",
    "b=200\n",
    "c=500\n",
    "if a>b:\n",
    "    print(\"a greater than b\")\n",
    "elif b==a:\n",
    "    print(\"b greater thean a\")\n",
    "elif c>b and b>a:\n",
    "    print(\"b and c is greater than a\")"
   ]
  },
  {
   "cell_type": "code",
   "execution_count": 20,
   "id": "a15d7c44",
   "metadata": {},
   "outputs": [],
   "source": [
    "a=10\n",
    "b=20\n",
    "if a>b:\n",
    "    pass"
   ]
  },
  {
   "cell_type": "markdown",
   "id": "906e5e56",
   "metadata": {},
   "source": [
    "# write a program to check wheather a person is eligible for voting or not"
   ]
  },
  {
   "cell_type": "code",
   "execution_count": 24,
   "id": "167598ea",
   "metadata": {},
   "outputs": [
    {
     "name": "stdout",
     "output_type": "stream",
     "text": [
      "Enter your age: 24\n",
      "Your are eligible for vote\n"
     ]
    }
   ],
   "source": [
    "num=int(input(\"Enter your age: \"))\n",
    "if num<=18:\n",
    "    print(\"Your are not eligible for vote\")\n",
    "else:\n",
    "    print(\"Your are eligible for vote\")\n",
    "    "
   ]
  },
  {
   "cell_type": "code",
   "execution_count": 25,
   "id": "fa6ad387",
   "metadata": {},
   "outputs": [
    {
     "name": "stdout",
     "output_type": "stream",
     "text": [
      "Enter your age: 15\n",
      "Your are not eligible for vote\n"
     ]
    }
   ],
   "source": [
    "num=int(input(\"Enter your age: \"))\n",
    "if num<=18:\n",
    "    print(\"Your are not eligible for vote\")\n",
    "else:\n",
    "    print(\"Your are eligible for vote\")\n",
    "    "
   ]
  },
  {
   "cell_type": "markdown",
   "id": "58b05dfc",
   "metadata": {},
   "source": [
    "# Write a program to check whether a number is divisible by 7 or not."
   ]
  },
  {
   "cell_type": "code",
   "execution_count": 26,
   "id": "0913c76e",
   "metadata": {},
   "outputs": [
    {
     "name": "stdout",
     "output_type": "stream",
     "text": [
      "Enter a number49\n",
      "Number is div by 7 \n"
     ]
    }
   ],
   "source": [
    "number=int(input(\"Enter a number\"))\n",
    "if number %7 == 0:\n",
    "    print(\"Number is div by 7 \")\n",
    "    \n",
    "else:\n",
    "    print(\"Number is not div by 7\")\n",
    "   "
   ]
  },
  {
   "cell_type": "code",
   "execution_count": 28,
   "id": "cbd81a9a",
   "metadata": {},
   "outputs": [
    {
     "name": "stdout",
     "output_type": "stream",
     "text": [
      "Enter a number45\n",
      "Number is not div by 7\n"
     ]
    }
   ],
   "source": [
    "number=int(input(\"Enter a number\"))\n",
    "if number %7 == 0:\n",
    "    print(\"Number is div by 7 \")\n",
    "    \n",
    "else:\n",
    "    print(\"Number is not div by 7\")\n",
    "   "
   ]
  },
  {
   "cell_type": "markdown",
   "id": "23c72685",
   "metadata": {},
   "source": [
    "# Write a program to display \"Hello\" if a number entered by user is a multiple of five , otherwise print \"Bye\"."
   ]
  },
  {
   "cell_type": "code",
   "execution_count": 30,
   "id": "b6c6282d",
   "metadata": {},
   "outputs": [
    {
     "name": "stdout",
     "output_type": "stream",
     "text": [
      "Enter a number15\n",
      "Hello\n"
     ]
    }
   ],
   "source": [
    "num=int(input(\"Enter a number\"))\n",
    "if num %5 ==0:\n",
    "    print(\"Hello\")\n",
    "else:\n",
    "    print(\"Bye\")"
   ]
  },
  {
   "cell_type": "code",
   "execution_count": 32,
   "id": "6f91e0a3",
   "metadata": {},
   "outputs": [
    {
     "name": "stdout",
     "output_type": "stream",
     "text": [
      "Enter a number48\n",
      "Bye\n"
     ]
    }
   ],
   "source": [
    "num=int(input(\"Enter a number\"))\n",
    "if num %5 ==0:\n",
    "    print(\"Hello\")\n",
    "else:\n",
    "    print(\"Bye\")"
   ]
  },
  {
   "cell_type": "code",
   "execution_count": 33,
   "id": "39446a73",
   "metadata": {},
   "outputs": [
    {
     "name": "stdout",
     "output_type": "stream",
     "text": [
      "Enter a number75\n",
      "Hello\n"
     ]
    }
   ],
   "source": [
    "num=int(input(\"Enter a number\"))\n",
    "if num %5 ==0:\n",
    "    print(\"Hello\")\n",
    "else:\n",
    "    print(\"Bye\")"
   ]
  },
  {
   "cell_type": "markdown",
   "id": "dc44d619",
   "metadata": {},
   "source": [
    "***Write a program to calculate the electricity bill (accept number of unit from user) according to the following criteria :\n",
    "             Unit                                                     Price  \n",
    "First 100 units                                               no charge\n",
    "Next 100 units                                              Rs 5 per unit\n",
    "After 200 units                                             Rs 10 per unit\n",
    "(For example if input unit is 350 than total bill amount is Rs2000)***"
   ]
  },
  {
   "cell_type": "code",
   "execution_count": 44,
   "id": "b48c57a9",
   "metadata": {},
   "outputs": [
    {
     "name": "stdout",
     "output_type": "stream",
     "text": [
      "Enter number of units : 205\n",
      "Rs. 2050\n"
     ]
    }
   ],
   "source": [
    "num=int(input(\"Enter number of units : \"))\n",
    "if num <=100:\n",
    "    print(\"no charge\")\n",
    "elif num >100 and num <=200:\n",
    "    \n",
    "    bill=5*num\n",
    "    print('Rs', bill)\n",
    "elif num >=200:\n",
    "    bill1=num*10\n",
    "    print(\"Rs.\",bill1)"
   ]
  },
  {
   "cell_type": "code",
   "execution_count": 45,
   "id": "28478069",
   "metadata": {},
   "outputs": [
    {
     "name": "stdout",
     "output_type": "stream",
     "text": [
      "Enter number of units : 90\n",
      "no charge\n"
     ]
    }
   ],
   "source": [
    "num=int(input(\"Enter number of units : \"))\n",
    "if num <=100:\n",
    "    print(\"no charge\")\n",
    "elif num >100 and num <=200:\n",
    "    \n",
    "    bill=5*num\n",
    "    print('Rs', bill)\n",
    "elif num >=200:\n",
    "    bill1=num*10\n",
    "    print(\"Rs.\",bill1)"
   ]
  },
  {
   "cell_type": "code",
   "execution_count": 46,
   "id": "c1b5f410",
   "metadata": {},
   "outputs": [
    {
     "name": "stdout",
     "output_type": "stream",
     "text": [
      "Enter number of units : 145\n",
      "Rs 725\n"
     ]
    }
   ],
   "source": [
    "num=int(input(\"Enter number of units : \"))\n",
    "if num <=100:\n",
    "    print(\"no charge\")\n",
    "elif num >100 and num <=200:\n",
    "    \n",
    "    bill=5*num\n",
    "    print('Rs', bill)\n",
    "elif num >=200:\n",
    "    bill1=num*10\n",
    "    print(\"Rs.\",bill1)"
   ]
  },
  {
   "cell_type": "markdown",
   "id": "0587198c",
   "metadata": {},
   "source": [
    "***Write a program to display the last digit of a number.\n",
    "(hint : any number % 10 will return the last digit)***"
   ]
  },
  {
   "cell_type": "code",
   "execution_count": 47,
   "id": "eb134dc2",
   "metadata": {},
   "outputs": [
    {
     "name": "stdout",
     "output_type": "stream",
     "text": [
      "0\n"
     ]
    }
   ],
   "source": [
    "num=1480\n",
    "result=num%10\n",
    "print(result)"
   ]
  },
  {
   "cell_type": "code",
   "execution_count": 48,
   "id": "9da9d7ea",
   "metadata": {},
   "outputs": [
    {
     "name": "stdout",
     "output_type": "stream",
     "text": [
      "9\n"
     ]
    }
   ],
   "source": [
    "num=1489\n",
    "result=num%10\n",
    "print(result)"
   ]
  },
  {
   "cell_type": "code",
   "execution_count": 49,
   "id": "7b9869b4",
   "metadata": {},
   "outputs": [
    {
     "name": "stdout",
     "output_type": "stream",
     "text": [
      "5\n"
     ]
    }
   ],
   "source": [
    "num=17325\n",
    "result=num%10\n",
    "print(result)"
   ]
  },
  {
   "cell_type": "code",
   "execution_count": 51,
   "id": "62f46d67",
   "metadata": {},
   "outputs": [
    {
     "name": "stdout",
     "output_type": "stream",
     "text": [
      "Enter any number458\n",
      "Last Digit is: 8\n"
     ]
    }
   ],
   "source": [
    "num=int(input(\"Enter any number\"))\n",
    "print(\"Last Digit is:\",num%10)"
   ]
  },
  {
   "cell_type": "code",
   "execution_count": 52,
   "id": "b8092e39",
   "metadata": {},
   "outputs": [
    {
     "name": "stdout",
     "output_type": "stream",
     "text": [
      "Enter any number79654\n",
      "Last Digit is: 4\n"
     ]
    }
   ],
   "source": [
    "num=int(input(\"Enter any number\"))\n",
    "print(\"Last Digit is:\",num%10)"
   ]
  },
  {
   "cell_type": "markdown",
   "id": "b483f763",
   "metadata": {},
   "source": [
    "***Write a program to check whether the last digit of a number( entered by user ) is \n",
    "divisible by 3 or not.***"
   ]
  },
  {
   "cell_type": "code",
   "execution_count": 53,
   "id": "71f97a31",
   "metadata": {},
   "outputs": [
    {
     "name": "stdout",
     "output_type": "stream",
     "text": [
      "Enter a Number: 21\n",
      "Number is divisible by 3\n"
     ]
    }
   ],
   "source": [
    "num=int(input(\"Enter a Number: \"))\n",
    "if (num%10)%3:\n",
    "    print(\"Number is divisible by 3\")\n",
    "else:\n",
    "    print(\"Number is not div by 3\",num)"
   ]
  },
  {
   "cell_type": "code",
   "execution_count": 55,
   "id": "7550d1b8",
   "metadata": {},
   "outputs": [
    {
     "name": "stdout",
     "output_type": "stream",
     "text": [
      "Enter a Number: 40\n",
      "Number is not div by 3\n"
     ]
    }
   ],
   "source": [
    "num=int(input(\"Enter a Number: \"))\n",
    "if (num%10)%3:\n",
    "    print(\"Number is divisible by 3\")\n",
    "else:\n",
    "    print(\"Number is not div by 3\")"
   ]
  },
  {
   "cell_type": "code",
   "execution_count": 57,
   "id": "3e692b1b",
   "metadata": {},
   "outputs": [
    {
     "name": "stdout",
     "output_type": "stream",
     "text": [
      "Enter a Number: 27\n",
      "Number is divisible by 3\n"
     ]
    }
   ],
   "source": [
    "num=int(input(\"Enter a Number: \"))\n",
    "if (num%10)%3:\n",
    "    print(\"Number is divisible by 3\")\n",
    "else:\n",
    "    print(\"Number is not div by 3\",num)"
   ]
  },
  {
   "cell_type": "markdown",
   "id": "cf829e5c",
   "metadata": {},
   "source": [
    "****Write a program to accept the cost price of a bike and display the road tax to be paid according to the following criteria :****\n",
    "    \n",
    "        Cost price (in Rs)                                       Tax\n",
    "        > 100000                                                  15 %\n",
    "        > 50000 and <= 100000                          10%\n",
    "        <= 50000                                                  5%"
   ]
  },
  {
   "cell_type": "code",
   "execution_count": 62,
   "id": "1acf9018",
   "metadata": {},
   "outputs": [
    {
     "name": "stdout",
     "output_type": "stream",
     "text": [
      "Enter a Bike Price: 130000\n",
      "tax to pay 19500.0\n"
     ]
    }
   ],
   "source": [
    "price=int(input(\"Enter a Bike Price: \"))\n",
    "if price > 100000:\n",
    "    tax=(15/100)*price\n",
    "    print(\"tax to pay\",tax)\n",
    "elif price > 50000 and price <= 100000:\n",
    "    tax=(10/100)*price\n",
    "    print(\"tax to pay\",tax)\n",
    "elif price <= 50000:\n",
    "    tax=(5/100)*price\n",
    "    print(\"tax to pay\",tax)\n",
    "    \n",
    "    "
   ]
  },
  {
   "cell_type": "code",
   "execution_count": 64,
   "id": "649cfd07",
   "metadata": {},
   "outputs": [
    {
     "name": "stdout",
     "output_type": "stream",
     "text": [
      "Enter a Bike Price: 63000\n",
      "tax to pay 6300.0\n"
     ]
    }
   ],
   "source": [
    "price=int(input(\"Enter a Bike Price: \"))\n",
    "if price > 100000:\n",
    "    tax=(15/100)*price\n",
    "    print(\"tax to pay\",tax)\n",
    "elif price > 50000 and price <= 100000:\n",
    "    tax=(10/100)*price\n",
    "    print(\"tax to pay\",tax)\n",
    "elif price <= 50000:\n",
    "    tax=(5/100)*price\n",
    "    print(\"tax to pay\",tax)\n",
    "    "
   ]
  },
  {
   "cell_type": "code",
   "execution_count": 65,
   "id": "05c43005",
   "metadata": {},
   "outputs": [
    {
     "name": "stdout",
     "output_type": "stream",
     "text": [
      "Enter a Bike Price: 42650\n",
      "tax to pay 2132.5\n"
     ]
    }
   ],
   "source": [
    "price=int(input(\"Enter a Bike Price: \"))\n",
    "if price > 100000:\n",
    "    tax=(15/100)*price\n",
    "    print(\"tax to pay\",tax)\n",
    "elif price > 50000 and price <= 100000:\n",
    "    tax=(10/100)*price\n",
    "    print(\"tax to pay\",tax)\n",
    "elif price <= 50000:\n",
    "    tax=(5/100)*price\n",
    "    print(\"tax to pay\",tax)\n",
    "    "
   ]
  },
  {
   "cell_type": "markdown",
   "id": "90624af6",
   "metadata": {},
   "source": [
    " ****Write a program to check whether an years is leap year or not.****"
   ]
  },
  {
   "cell_type": "code",
   "execution_count": 66,
   "id": "51efd559",
   "metadata": {},
   "outputs": [
    {
     "name": "stdout",
     "output_type": "stream",
     "text": [
      "Enter a year : 2021\n",
      "This is not a leap year:  2021\n"
     ]
    }
   ],
   "source": [
    "year=int(input(\"Enter a year : \"))\n",
    "if year%100==0:\n",
    "    print(\"This is a Leap year: \",year)\n",
    "    \n",
    "elif year%400==0:\n",
    "    print(\"This is a Leap year: \",year)\n",
    "    \n",
    "elif year%4==0:\n",
    "    print(\"This is a leap year: \",year)\n",
    "    \n",
    "else:\n",
    "    print(\"This is not a leap year: \",year)\n",
    "    \n",
    "    "
   ]
  },
  {
   "cell_type": "code",
   "execution_count": 67,
   "id": "7fb4c9a3",
   "metadata": {},
   "outputs": [
    {
     "name": "stdout",
     "output_type": "stream",
     "text": [
      "Enter a year : 2014\n",
      "This is not a leap year:  2014\n"
     ]
    }
   ],
   "source": [
    "year=int(input(\"Enter a year : \"))\n",
    "if year%100==0:\n",
    "    print(\"This is a Leap year: \",year)\n",
    "    \n",
    "elif year%400==0:\n",
    "    print(\"This is a Leap year: \",year)\n",
    "    \n",
    "elif year%4==0:\n",
    "    print(\"This is a leap year: \",year)\n",
    "    \n",
    "else:\n",
    "    print(\"This is not a leap year: \",year)\n",
    "    \n",
    "    \n",
    "    "
   ]
  },
  {
   "cell_type": "code",
   "execution_count": 68,
   "id": "14ad231f",
   "metadata": {},
   "outputs": [
    {
     "name": "stdout",
     "output_type": "stream",
     "text": [
      "Enter a year : 2016\n",
      "This is a leap year:  2016\n"
     ]
    }
   ],
   "source": [
    "year=int(input(\"Enter a year : \"))\n",
    "if year%100==0:\n",
    "    print(\"This is a Leap year: \",year)\n",
    "    \n",
    "elif year%400==0:\n",
    "    print(\"This is a Leap year: \",year)\n",
    "    \n",
    "elif year%4==0:\n",
    "    print(\"This is a leap year: \",year)\n",
    "    \n",
    "else:\n",
    "    print(\"This is not a leap year: \",year)\n",
    "    \n",
    "    "
   ]
  },
  {
   "cell_type": "code",
   "execution_count": 69,
   "id": "2ed17c02",
   "metadata": {},
   "outputs": [
    {
     "name": "stdout",
     "output_type": "stream",
     "text": [
      "Enter a year : 2024\n",
      "This is a leap year:  2024\n"
     ]
    }
   ],
   "source": [
    "year=int(input(\"Enter a year : \"))\n",
    "if year%100==0:\n",
    "    print(\"This is a Leap year: \",year)\n",
    "    \n",
    "elif year%400==0:\n",
    "    print(\"This is a Leap year: \",year)\n",
    "    \n",
    "elif year%4==0:\n",
    "    print(\"This is a leap year: \",year)\n",
    "    \n",
    "else:\n",
    "    print(\"This is not a leap year: \",year)\n",
    "    \n",
    "    "
   ]
  },
  {
   "cell_type": "code",
   "execution_count": 70,
   "id": "661672ed",
   "metadata": {},
   "outputs": [
    {
     "name": "stdout",
     "output_type": "stream",
     "text": [
      "Enter a year : 2028\n",
      "This is a leap year:  2028\n"
     ]
    }
   ],
   "source": [
    "year=int(input(\"Enter a year : \"))\n",
    "if year%100==0:\n",
    "    print(\"This is a Leap year: \",year)\n",
    "    \n",
    "elif year%400==0:\n",
    "    print(\"This is a Leap year: \",year)\n",
    "    \n",
    "elif year%4==0:\n",
    "    print(\"This is a leap year: \",year)\n",
    "    \n",
    "else:\n",
    "    print(\"This is not a leap year: \",year)\n",
    "    \n",
    "    "
   ]
  },
  {
   "cell_type": "markdown",
   "id": "7802e9f1",
   "metadata": {},
   "source": [
    "**Write a program to accept a number from 1 to 12 and display name of the month and days in that month like 1 for January and number of days 31 and so on**\n"
   ]
  },
  {
   "cell_type": "code",
   "execution_count": 73,
   "id": "1f507070",
   "metadata": {},
   "outputs": [
    {
     "name": "stdout",
     "output_type": "stream",
     "text": [
      "Enter number between 1 to 12 : 7\n",
      "july\n",
      "num of days=31\n"
     ]
    }
   ],
   "source": [
    "num=int(input(\"Enter number between 1 to 12 : \"))\n",
    "if num==1:\n",
    "    print(\"January\")\n",
    "    print(\"num of days=31\")\n",
    "elif num==2:\n",
    "    print(\"February\")\n",
    "    print(\"num of days=28\")\n",
    "elif num==3:\n",
    "    print(\"March\")\n",
    "    print(\"num of days=31\")\n",
    "elif num==4:\n",
    "    print(\"April\")\n",
    "    print(\"num of days=30\")\n",
    "elif num==5:\n",
    "    print(\"may\")\n",
    "    print(\"num of days=31\")\n",
    "elif num==6:\n",
    "    print(\"Jun\")\n",
    "    print(\"num of days=30\")\n",
    "elif num==7:\n",
    "    print(\"july\")\n",
    "    print(\"num of days=31\")\n",
    "else:\n",
    "    print(\"Please Enter a valid Number!\")"
   ]
  },
  {
   "cell_type": "code",
   "execution_count": 74,
   "id": "1101588b",
   "metadata": {},
   "outputs": [
    {
     "name": "stdout",
     "output_type": "stream",
     "text": [
      "Enter number between 1 to 12 : 3\n",
      "March\n",
      "num of days=31\n"
     ]
    }
   ],
   "source": [
    "num=int(input(\"Enter number between 1 to 12 : \"))\n",
    "if num==1:\n",
    "    print(\"January\")\n",
    "    print(\"num of days=31\")\n",
    "elif num==2:\n",
    "    print(\"February\")\n",
    "    print(\"num of days=28\")\n",
    "elif num==3:\n",
    "    print(\"March\")\n",
    "    print(\"num of days=31\")\n",
    "elif num==4:\n",
    "    print(\"April\")\n",
    "    print(\"num of days=30\")\n",
    "elif num==5:\n",
    "    print(\"may\")\n",
    "    print(\"num of days=31\")\n",
    "elif num==6:\n",
    "    print(\"Jun\")\n",
    "    print(\"num of days=30\")\n",
    "elif num==7:\n",
    "    print(\"july\")\n",
    "    print(\"num of days=31\")\n",
    "else:\n",
    "    print(\"Please Enter a valid Number!\")"
   ]
  },
  {
   "cell_type": "code",
   "execution_count": 75,
   "id": "cc608879",
   "metadata": {},
   "outputs": [
    {
     "name": "stdout",
     "output_type": "stream",
     "text": [
      "Enter number between 1 to 12 : 14\n",
      "Please Enter a valid Number!\n"
     ]
    }
   ],
   "source": [
    "num=int(input(\"Enter number between 1 to 12 : \"))\n",
    "if num==1:\n",
    "    print(\"January\")\n",
    "    print(\"num of days=31\")\n",
    "elif num==2:\n",
    "    print(\"February\")\n",
    "    print(\"num of days=28\")\n",
    "elif num==3:\n",
    "    print(\"March\")\n",
    "    print(\"num of days=31\")\n",
    "elif num==4:\n",
    "    print(\"April\")\n",
    "    print(\"num of days=30\")\n",
    "elif num==5:\n",
    "    print(\"may\")\n",
    "    print(\"num of days=31\")\n",
    "elif num==6:\n",
    "    print(\"Jun\")\n",
    "    print(\"num of days=30\")\n",
    "elif num==7:\n",
    "    print(\"july\")\n",
    "    print(\"num of days=31\")\n",
    "else:\n",
    "    print(\"Please Enter a valid Number!\")"
   ]
  },
  {
   "cell_type": "markdown",
   "id": "5aa7c500",
   "metadata": {},
   "source": [
    "***Write a program to check whether a number entered is three digit number or not.****"
   ]
  },
  {
   "cell_type": "code",
   "execution_count": 77,
   "id": "e1639f9a",
   "metadata": {},
   "outputs": [
    {
     "name": "stdout",
     "output_type": "stream",
     "text": [
      "Enter a number : 452\n",
      "Number is 3 digit\n"
     ]
    }
   ],
   "source": [
    "num=input(\"Enter a number : \")\n",
    "x=len(num)\n",
    "if x!=3:\n",
    "    print(\"Entered number is not 3 digit\")\n",
    "else:\n",
    "    print(\"Number is 3 digit\")"
   ]
  },
  {
   "cell_type": "code",
   "execution_count": 78,
   "id": "1667f51c",
   "metadata": {},
   "outputs": [
    {
     "name": "stdout",
     "output_type": "stream",
     "text": [
      "Enter a number : 1245\n",
      "Entered number is not 3 digit\n"
     ]
    }
   ],
   "source": [
    "num=input(\"Enter a number : \")\n",
    "x=len(num)\n",
    "if x!=3:\n",
    "    print(\"Entered number is not 3 digit\")\n",
    "else:\n",
    "    print(\"Number is 3 digit\")"
   ]
  },
  {
   "cell_type": "code",
   "execution_count": 79,
   "id": "15ed3087",
   "metadata": {},
   "outputs": [
    {
     "name": "stdout",
     "output_type": "stream",
     "text": [
      "Enter a number : 842\n",
      "Number is 3 digit\n"
     ]
    }
   ],
   "source": [
    "num=input(\"Enter a number : \")\n",
    "x=len(num)\n",
    "if x!=3:\n",
    "    print(\"Entered number is not 3 digit\")\n",
    "else:\n",
    "    print(\"Number is 3 digit\")"
   ]
  },
  {
   "cell_type": "code",
   "execution_count": null,
   "id": "7eb49ea6",
   "metadata": {},
   "outputs": [],
   "source": []
  }
 ],
 "metadata": {
  "kernelspec": {
   "display_name": "Python 3",
   "language": "python",
   "name": "python3"
  },
  "language_info": {
   "codemirror_mode": {
    "name": "ipython",
    "version": 3
   },
   "file_extension": ".py",
   "mimetype": "text/x-python",
   "name": "python",
   "nbconvert_exporter": "python",
   "pygments_lexer": "ipython3",
   "version": "3.8.8"
  }
 },
 "nbformat": 4,
 "nbformat_minor": 5
}
